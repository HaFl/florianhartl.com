{
 "cells": [
  {
   "cell_type": "code",
   "execution_count": 1,
   "metadata": {
    "collapsed": true
   },
   "outputs": [],
   "source": [
    "%matplotlib inline"
   ]
  },
  {
   "cell_type": "code",
   "execution_count": 2,
   "metadata": {
    "collapsed": false
   },
   "outputs": [],
   "source": [
    "import sklearn.linear_model\n",
    "import sklearn.svm\n",
    "import numpy as np\n",
    "\n",
    "import plotly.plotly as py\n",
    "import plotly.graph_objs as go"
   ]
  },
  {
   "cell_type": "markdown",
   "metadata": {},
   "source": [
    "# Data\n",
    "Inspired by: http://scikit-learn.org/stable/auto_examples/svm/plot_separating_hyperplane.html"
   ]
  },
  {
   "cell_type": "markdown",
   "metadata": {},
   "source": [
    "40 separable points"
   ]
  },
  {
   "cell_type": "code",
   "execution_count": 3,
   "metadata": {
    "collapsed": false
   },
   "outputs": [],
   "source": [
    "# to make sure we always get the same \"random\" data\n",
    "np.random.seed(1)\n",
    "\n",
    "X = np.r_[np.random.randn(20, 2), np.random.randn(20, 2) + [4, 4]]\n",
    "\n",
    "# allows for graphs with width > height without distorting the aspect ratio\n",
    "X[:, 1] = X[:, 1] / 2.0\n",
    "\n",
    "y = np.r_[np.zeros(20), np.ones(20)]"
   ]
  },
  {
   "cell_type": "markdown",
   "metadata": {},
   "source": [
    "2 features"
   ]
  },
  {
   "cell_type": "code",
   "execution_count": 4,
   "metadata": {
    "collapsed": false
   },
   "outputs": [],
   "source": [
    "feature_1 = np.atleast_2d(X[:, 0]).T\n",
    "feature_2 = np.atleast_2d(X[:, 1]).T"
   ]
  },
  {
   "cell_type": "markdown",
   "metadata": {},
   "source": [
    "# 1 Feature"
   ]
  },
  {
   "cell_type": "markdown",
   "metadata": {},
   "source": [
    "### Logistic Regression"
   ]
  },
  {
   "cell_type": "code",
   "execution_count": 5,
   "metadata": {
    "collapsed": true
   },
   "outputs": [],
   "source": [
    "# Notice the very relaxed regularization\n",
    "logistic = sklearn.linear_model.LogisticRegression(C=10)"
   ]
  },
  {
   "cell_type": "code",
   "execution_count": 6,
   "metadata": {
    "collapsed": false
   },
   "outputs": [
    {
     "data": {
      "text/plain": [
       "LogisticRegression(C=10, class_weight=None, dual=False, fit_intercept=True,\n",
       "          intercept_scaling=1, max_iter=100, multi_class='ovr',\n",
       "          penalty='l2', random_state=None, solver='liblinear', tol=0.0001,\n",
       "          verbose=0)"
      ]
     },
     "execution_count": 6,
     "metadata": {},
     "output_type": "execute_result"
    }
   ],
   "source": [
    "logistic.fit(feature_1, y)"
   ]
  },
  {
   "cell_type": "code",
   "execution_count": 7,
   "metadata": {
    "collapsed": false
   },
   "outputs": [
    {
     "data": {
      "text/plain": [
       "(-5.1942545261521245, array([ 2.43691078]))"
      ]
     },
     "execution_count": 7,
     "metadata": {},
     "output_type": "execute_result"
    }
   ],
   "source": [
    "logistic.intercept_[0], logistic.coef_[0]"
   ]
  },
  {
   "cell_type": "code",
   "execution_count": 34,
   "metadata": {
    "collapsed": false,
    "scrolled": false
   },
   "outputs": [
    {
     "data": {
      "text/html": [
       "<iframe id=\"igraph\" scrolling=\"no\" style=\"border:none;\"seamless=\"seamless\" src=\"https://plot.ly/~florianh/140.embed\" height=\"400px\" width=\"800px\"></iframe>"
      ],
      "text/plain": [
       "<plotly.tools.PlotlyDisplay object>"
      ]
     },
     "execution_count": 34,
     "metadata": {},
     "output_type": "execute_result"
    }
   ],
   "source": [
    "xaxis = go.XAxis(title='Feature', zeroline=False)\n",
    "yaxis = go.YAxis(title='y', range=[-0.5, 1.5], zeroline=False)\n",
    "x_range = np.arange(np.min(feature_1), np.max(feature_1), 0.05)\n",
    "z_func = logistic.intercept_[0] + (logistic.coef_[0][0] * x_range)\n",
    "g_func = 1 / (1 + np.exp(-z_func))\n",
    "\n",
    "samples_y0 = go.Scatter(\n",
    "    x=feature_1[:20],\n",
    "    y=y[:20],\n",
    "    mode='markers',\n",
    "    name='samples (y=0)',\n",
    "    marker=go.Marker(\n",
    "        color='red',\n",
    "        size=8,\n",
    "    ),\n",
    ")\n",
    "samples_y1 = go.Scatter(\n",
    "    x=feature_1[20:],\n",
    "    y=y[20:],\n",
    "    mode='markers',\n",
    "    name='samples (y=1)',\n",
    "    marker=go.Marker(\n",
    "        color='blue',\n",
    "        size=8,\n",
    "    ),\n",
    ")\n",
    "linear_function = go.Scatter(\n",
    "    x=x_range,\n",
    "    y=z_func,\n",
    "    mode='lines',\n",
    "    name='linear: z',\n",
    "    line=go.Line(\n",
    "        dash='dash',\n",
    "        color='orange',\n",
    "    ),\n",
    ")\n",
    "logistic_function = go.Scatter(\n",
    "    x=x_range,\n",
    "    y=g_func,\n",
    "    mode='lines',\n",
    "    name='logistic: g(z)',\n",
    "    line=go.Line(color='rgb(44, 160, 44)'),\n",
    ")\n",
    "data = go.Data([linear_function, logistic_function, samples_y0, samples_y1])\n",
    "layout = go.Layout(\n",
    "    title='Logistic Regression: 1 Feature',\n",
    "    legend=go.Legend(traceorder='reversed'),\n",
    "    xaxis=xaxis,\n",
    "    yaxis=yaxis,\n",
    "    autosize=False,\n",
    "    width=800,\n",
    "    height=400,\n",
    ")\n",
    "fig = go.Figure(data=data, layout=layout)\n",
    "py.iplot(fig, filename='Logistic Regression: 1 Feature', height=400)"
   ]
  },
  {
   "cell_type": "markdown",
   "metadata": {},
   "source": [
    "# 2 Features"
   ]
  },
  {
   "cell_type": "code",
   "execution_count": 8,
   "metadata": {
    "collapsed": false
   },
   "outputs": [
    {
     "data": {
      "text/html": [
       "<iframe id=\"igraph\" scrolling=\"no\" style=\"border:none;\"seamless=\"seamless\" src=\"https://plot.ly/~florianh/147.embed\" height=\"525px\" width=\"100%\"></iframe>"
      ],
      "text/plain": [
       "<plotly.tools.PlotlyDisplay object>"
      ]
     },
     "execution_count": 8,
     "metadata": {},
     "output_type": "execute_result"
    }
   ],
   "source": [
    "xaxis = go.XAxis(title='Feature 1', zeroline=False)\n",
    "yaxis = go.YAxis(title='Feature 2', zeroline=False)\n",
    "samples_y0 = go.Scatter(\n",
    "    x=feature_1[:20],\n",
    "    y=feature_2[:20],\n",
    "    mode='markers',\n",
    "    name='samples (y=0)',\n",
    "    marker=go.Marker(\n",
    "        color='red',\n",
    "        size=8,\n",
    "    ),\n",
    ")\n",
    "samples_y1 = go.Scatter(\n",
    "    x=feature_1[20:],\n",
    "    y=feature_2[20:],\n",
    "    mode='markers',\n",
    "    name='samples (y=1)',\n",
    "    marker=go.Marker(\n",
    "        color='blue',\n",
    "        size=8,\n",
    "    ),\n",
    ")\n",
    "data = go.Data([samples_y1, samples_y0])\n",
    "layout = go.Layout(\n",
    "    title='Data: 2 Features',\n",
    "    hovermode='closest',\n",
    "    xaxis=xaxis,\n",
    "    yaxis=yaxis,\n",
    ")\n",
    "fig = go.Figure(data=data, layout=layout)\n",
    "py.iplot(fig, filename='Data: 2 Features')"
   ]
  },
  {
   "cell_type": "markdown",
   "metadata": {},
   "source": [
    "## Logistic Regression"
   ]
  },
  {
   "cell_type": "code",
   "execution_count": 9,
   "metadata": {
    "collapsed": true
   },
   "outputs": [],
   "source": [
    "logistic = sklearn.linear_model.LogisticRegression(C=10)"
   ]
  },
  {
   "cell_type": "code",
   "execution_count": 10,
   "metadata": {
    "collapsed": false
   },
   "outputs": [
    {
     "data": {
      "text/plain": [
       "LogisticRegression(C=10, class_weight=None, dual=False, fit_intercept=True,\n",
       "          intercept_scaling=1, max_iter=100, multi_class='ovr',\n",
       "          penalty='l2', random_state=None, solver='liblinear', tol=0.0001,\n",
       "          verbose=0)"
      ]
     },
     "execution_count": 10,
     "metadata": {},
     "output_type": "execute_result"
    }
   ],
   "source": [
    "logistic.fit(X, y)"
   ]
  },
  {
   "cell_type": "code",
   "execution_count": 11,
   "metadata": {
    "collapsed": false
   },
   "outputs": [
    {
     "data": {
      "text/plain": [
       "(-3.9734262368926485, array([ 1.05493216,  2.46087423]))"
      ]
     },
     "execution_count": 11,
     "metadata": {},
     "output_type": "execute_result"
    }
   ],
   "source": [
    "logistic.intercept_[0], logistic.coef_[0]"
   ]
  },
  {
   "cell_type": "markdown",
   "metadata": {},
   "source": [
    "### 3D plot - Logistic Regression"
   ]
  },
  {
   "cell_type": "code",
   "execution_count": 13,
   "metadata": {
    "collapsed": false,
    "scrolled": false
   },
   "outputs": [
    {
     "data": {
      "text/html": [
       "<iframe id=\"igraph\" scrolling=\"no\" style=\"border:none;\"seamless=\"seamless\" src=\"https://plot.ly/~florianh/149.embed\" height=\"525px\" width=\"100%\"></iframe>"
      ],
      "text/plain": [
       "<plotly.tools.PlotlyDisplay object>"
      ]
     },
     "execution_count": 13,
     "metadata": {},
     "output_type": "execute_result"
    }
   ],
   "source": [
    "def fxy(x, y):\n",
    "    return (\n",
    "        1 / (\n",
    "            1 + np.exp(\n",
    "                -(logistic.intercept_[0] + (logistic.coef_[0][0] * x) + (logistic.coef_[0][1] * y))\n",
    "            )\n",
    "        )\n",
    "    )\n",
    "\n",
    "xaxis = go.XAxis(title='Feature 1')\n",
    "yaxis = go.YAxis(title='Feature 2')\n",
    "zaxis = go.ZAxis(title='y', zeroline=False)\n",
    "\n",
    "x_mesh = y_mesh = np.arange(np.min(X), np.max(X), 0.1)\n",
    "y_mesh_column = y_mesh[:, np.newaxis]\n",
    "z = fxy(x_mesh, y_mesh_column)\n",
    "\n",
    "surface = go.Surface(\n",
    "    z=z,\n",
    "    x=x_mesh,\n",
    "    y=y_mesh,\n",
    "    name='logistic regression function surface',\n",
    "    colorscale='Greys',\n",
    ")\n",
    "\n",
    "samples_y0 = go.Scatter3d(\n",
    "    x=feature_1[:20],\n",
    "    y=feature_2[:20],\n",
    "    z=y[:20],\n",
    "    mode='markers',\n",
    "    name='y = 0',\n",
    "    marker=go.Marker(\n",
    "        size=8,\n",
    "        color='red',\n",
    "    ),\n",
    ")\n",
    "samples_y1 = go.Scatter3d(\n",
    "    x=feature_1[20:],\n",
    "    y=feature_2[20:],\n",
    "    z=y[20:],\n",
    "    mode='markers',\n",
    "    name='y = 1',\n",
    "    marker=go.Marker(\n",
    "        size=8,\n",
    "        color='blue',\n",
    "    ),\n",
    ")\n",
    "\n",
    "data = go.Data([samples_y1, samples_y0, surface])\n",
    "layout = go.Layout(\n",
    "    title='Logistic Regression: 2 Features',\n",
    "    scene=go.Scene(\n",
    "        xaxis=xaxis,\n",
    "        yaxis=yaxis,\n",
    "        zaxis=zaxis,\n",
    "    ),\n",
    ")\n",
    "fig = go.Figure(data=data, layout=layout)\n",
    "py.iplot(data, filename='Logistic Regression: 2 Features')"
   ]
  },
  {
   "cell_type": "markdown",
   "metadata": {},
   "source": [
    "### 3D plot - Logistic Regression - Projected"
   ]
  },
  {
   "cell_type": "code",
   "execution_count": 14,
   "metadata": {
    "collapsed": false
   },
   "outputs": [
    {
     "data": {
      "text/html": [
       "<iframe id=\"igraph\" scrolling=\"no\" style=\"border:none;\"seamless=\"seamless\" src=\"https://plot.ly/~florianh/151.embed\" height=\"525px\" width=\"100%\"></iframe>"
      ],
      "text/plain": [
       "<plotly.tools.PlotlyDisplay object>"
      ]
     },
     "execution_count": 14,
     "metadata": {},
     "output_type": "execute_result"
    }
   ],
   "source": [
    "def fxy(x, y):\n",
    "    return (\n",
    "        1 / (\n",
    "            1 + np.exp(\n",
    "                -(logistic.intercept_[0] + (logistic.coef_[0][0] * x) + (logistic.coef_[0][1] * y))\n",
    "            )\n",
    "        )\n",
    "    )\n",
    "\n",
    "xaxis = go.XAxis(title='Feature 1')\n",
    "yaxis = go.YAxis(title='Feature 2')\n",
    "zaxis = go.ZAxis(title='y', zeroline=False)\n",
    "\n",
    "x_mesh = y_mesh = np.arange(np.min(X), np.max(X), 0.1)\n",
    "y_mesh_column = y_mesh[:, np.newaxis]\n",
    "z = fxy(x_mesh, y_mesh_column)\n",
    "\n",
    "surface = go.Surface(\n",
    "    z=z,\n",
    "    x=x_mesh,\n",
    "    y=y_mesh,\n",
    "    name='logistic regression function surface',\n",
    "    colorscale='Greys',\n",
    ")\n",
    "\n",
    "samples_y0 = go.Scatter3d(\n",
    "    x=feature_1[:20],\n",
    "    y=feature_2[:20],\n",
    "    z=(\n",
    "        1 / (\n",
    "            1 + np.exp(\n",
    "                -(logistic.intercept_[0] +\n",
    "                  (logistic.coef_[0][0] * feature_1[:20]) +\n",
    "                  (logistic.coef_[0][1] * feature_2[:20])\n",
    "                 )\n",
    "            )\n",
    "        )\n",
    "    ),\n",
    "    mode='markers',\n",
    "    name='y = 0',\n",
    "    marker=go.Marker(\n",
    "        size=8,\n",
    "        color='red',\n",
    "    ),\n",
    ")\n",
    "samples_y1 = go.Scatter3d(\n",
    "    x=feature_1[20:],\n",
    "    y=feature_2[20:],\n",
    "    z=(\n",
    "        1 / (\n",
    "            1 + np.exp(\n",
    "                -(logistic.intercept_[0] + \n",
    "                  (logistic.coef_[0][0] * feature_1[20:]) + \n",
    "                  (logistic.coef_[0][1] * feature_2[20:])\n",
    "                 )\n",
    "            )\n",
    "        )\n",
    "    ),\n",
    "    mode='markers',\n",
    "    name='y = 1',\n",
    "    marker=go.Marker(\n",
    "        size=8,\n",
    "        color='blue',\n",
    "    ),\n",
    ")\n",
    "\n",
    "data = go.Data([samples_y1, samples_y0, surface])\n",
    "layout = go.Layout(\n",
    "    title='Logistic Regression: 2 Features - Projected',\n",
    "    scene=go.Scene(\n",
    "        xaxis=xaxis,\n",
    "        yaxis=yaxis,\n",
    "        zaxis=zaxis,\n",
    "    ),\n",
    ")\n",
    "fig = go.Figure(data=data, layout=layout)\n",
    "py.iplot(data, filename='Logistic Regression: 2 Features - Projected')"
   ]
  },
  {
   "cell_type": "markdown",
   "metadata": {},
   "source": [
    "## Linear SVM"
   ]
  },
  {
   "cell_type": "code",
   "execution_count": 15,
   "metadata": {
    "collapsed": true
   },
   "outputs": [],
   "source": [
    "linear_svm = sklearn.svm.SVC(kernel='linear', C=10)"
   ]
  },
  {
   "cell_type": "code",
   "execution_count": 16,
   "metadata": {
    "collapsed": false
   },
   "outputs": [
    {
     "data": {
      "text/plain": [
       "SVC(C=10, cache_size=200, class_weight=None, coef0=0.0, degree=3, gamma=0.0,\n",
       "  kernel='linear', max_iter=-1, probability=False, random_state=None,\n",
       "  shrinking=True, tol=0.001, verbose=False)"
      ]
     },
     "execution_count": 16,
     "metadata": {},
     "output_type": "execute_result"
    }
   ],
   "source": [
    "linear_svm.fit(X, y)"
   ]
  },
  {
   "cell_type": "code",
   "execution_count": 17,
   "metadata": {
    "collapsed": false
   },
   "outputs": [
    {
     "data": {
      "text/plain": [
       "array([[ 1.65980218,  0.37102208],\n",
       "       [ 2.55588619,  1.74776707]])"
      ]
     },
     "execution_count": 17,
     "metadata": {},
     "output_type": "execute_result"
    }
   ],
   "source": [
    "linear_svm.support_vectors_"
   ]
  },
  {
   "cell_type": "code",
   "execution_count": 18,
   "metadata": {
    "collapsed": false
   },
   "outputs": [
    {
     "data": {
      "text/plain": [
       "(-2.4809738709513232, array([ 0.66416114,  1.02041829]))"
      ]
     },
     "execution_count": 18,
     "metadata": {},
     "output_type": "execute_result"
    }
   ],
   "source": [
    "linear_svm.intercept_[0], linear_svm.coef_[0]"
   ]
  },
  {
   "cell_type": "markdown",
   "metadata": {},
   "source": [
    "### Decision boundary"
   ]
  },
  {
   "cell_type": "markdown",
   "metadata": {},
   "source": [
    "#### Linear SVM"
   ]
  },
  {
   "cell_type": "code",
   "execution_count": 30,
   "metadata": {
    "collapsed": false,
    "scrolled": false
   },
   "outputs": [
    {
     "data": {
      "text/html": [
       "<iframe id=\"igraph\" scrolling=\"no\" style=\"border:none;\"seamless=\"seamless\" src=\"https://plot.ly/~florianh/157.embed\" height=\"600px\" width=\"800px\"></iframe>"
      ],
      "text/plain": [
       "<plotly.tools.PlotlyDisplay object>"
      ]
     },
     "execution_count": 30,
     "metadata": {},
     "output_type": "execute_result"
    }
   ],
   "source": [
    "xaxis = go.XAxis(title='Feature 1', zeroline=False)\n",
    "yaxis = go.YAxis(title='Feature 2', zeroline=False)\n",
    "x_range = np.arange(np.min(feature_1), np.max(feature_1), 0.05)\n",
    "\n",
    "a = linear_svm.coef_[0][0] / -linear_svm.coef_[0][1]\n",
    "sv_1 = linear_svm.support_vectors_[0]\n",
    "sv_2 = linear_svm.support_vectors_[-1]\n",
    "\n",
    "samples_y0 = go.Scatter(\n",
    "    x=feature_1[:20],\n",
    "    y=feature_2[:20],\n",
    "    mode='markers',\n",
    "    name='samples (y=0)',\n",
    "    marker=go.Marker(\n",
    "        color='red',\n",
    "        size=8,\n",
    "    ),\n",
    ")\n",
    "samples_y1 = go.Scatter(\n",
    "    x=feature_1[20:],\n",
    "    y=feature_2[20:],\n",
    "    mode='markers',\n",
    "    name='samples (y=1)',\n",
    "    marker=go.Marker(\n",
    "        color='blue',\n",
    "        size=8,\n",
    "    ),\n",
    ")\n",
    "decision_boundary = go.Scatter(\n",
    "    x=x_range,\n",
    "    y=(\n",
    "        (linear_svm.intercept_[0] / -linear_svm.coef_[0][1]) + \n",
    "        (linear_svm.coef_[0][0] / -linear_svm.coef_[0][1]) * x_range\n",
    "    ),\n",
    "    mode='lines',\n",
    "    name='decision boundary',\n",
    ")\n",
    "parallel_sv1 = go.Scatter(\n",
    "    x=x_range,\n",
    "    y=(sv_1[1] - a * sv_1[0]) + a * x_range,\n",
    "    mode='lines',\n",
    "    line=go.Line(dash='dash', color='grey'),\n",
    "    name='parallel through SV 1'\n",
    ")\n",
    "parallel_sv2 = go.Scatter(\n",
    "    x=x_range,\n",
    "    y=(sv_2[1] - a * sv_2[0]) + a * x_range,\n",
    "    mode='lines',\n",
    "    line=go.Line(dash='dash', color='grey'),\n",
    "    name='parallel through SV 2',\n",
    ")\n",
    "support_vectors = go.Scatter(\n",
    "    x=linear_svm.support_vectors_[:, 0],\n",
    "    y=linear_svm.support_vectors_[:, 1],\n",
    "    mode='markers',\n",
    "    marker=go.Marker(\n",
    "        size=12,\n",
    "        color='grey',\n",
    "        line=go.Line(dash='dash', color='grey'),\n",
    "    ),\n",
    "    name='support vectors',\n",
    ")\n",
    "\n",
    "data = go.Data([parallel_sv2, parallel_sv1, decision_boundary, support_vectors, samples_y0, samples_y1])\n",
    "layout = go.Layout(\n",
    "    title='Linear SVM: Decision Boundary',\n",
    "    legend=go.Legend(traceorder='reversed'),\n",
    "    hovermode='closest',\n",
    "    xaxis=xaxis,\n",
    "    yaxis=yaxis,\n",
    "    autosize=False,\n",
    "    width=800,\n",
    "    height=600,\n",
    ")\n",
    "fig = go.Figure(data=data, layout=layout)\n",
    "py.iplot(fig, filename='Linear SVM: Decision Boundary', height=600)"
   ]
  },
  {
   "cell_type": "markdown",
   "metadata": {},
   "source": [
    "#### Logistic Regression & Linear SVM"
   ]
  },
  {
   "cell_type": "code",
   "execution_count": 28,
   "metadata": {
    "collapsed": false
   },
   "outputs": [
    {
     "data": {
      "text/html": [
       "<iframe id=\"igraph\" scrolling=\"no\" style=\"border:none;\"seamless=\"seamless\" src=\"https://plot.ly/~florianh/153.embed\" height=\"500px\" width=\"800px\"></iframe>"
      ],
      "text/plain": [
       "<plotly.tools.PlotlyDisplay object>"
      ]
     },
     "execution_count": 28,
     "metadata": {},
     "output_type": "execute_result"
    }
   ],
   "source": [
    "xaxis = go.XAxis(title='Feature 1', zeroline=False)\n",
    "yaxis = go.YAxis(title='Feature 2', zeroline=False)\n",
    "x_range = np.arange(np.min(feature_1), np.max(feature_1), 0.05)\n",
    "\n",
    "samples_y0 = go.Scatter(\n",
    "    x=feature_1[:20],\n",
    "    y=feature_2[:20],\n",
    "    mode='markers',\n",
    "    name='samples (y=0)',\n",
    "    marker=go.Marker(\n",
    "        color='red',\n",
    "        size=8,\n",
    "    ),\n",
    ")\n",
    "samples_y1 = go.Scatter(\n",
    "    x=feature_1[20:],\n",
    "    y=feature_2[20:],\n",
    "    mode='markers',\n",
    "    name='samples (y=1)',\n",
    "    marker=go.Marker(\n",
    "        color='blue',\n",
    "        size=8,\n",
    "    ),\n",
    ")\n",
    "decision_boundary_svm = go.Scatter(\n",
    "    x=x_range,\n",
    "    y=(\n",
    "        (linear_svm.intercept_[0] / -linear_svm.coef_[0][1]) + \n",
    "        (linear_svm.coef_[0][0] / -linear_svm.coef_[0][1]) * x_range\n",
    "    ),\n",
    "    mode='lines',\n",
    "    name='SVM',\n",
    "    line=go.Line(dash='dash', color='rgb(44, 160, 44)'),\n",
    ")\n",
    "decision_boundary_lr = go.Scatter(\n",
    "    x=x_range,\n",
    "    y=(\n",
    "        ((logistic.intercept_[0] - 0.5) / -logistic.coef_[0][1]) + \n",
    "        (logistic.coef_[0][0] / -logistic.coef_[0][1]) * x_range\n",
    "    ),\n",
    "    mode='lines',\n",
    "    name='Logistic Regression',\n",
    ")\n",
    "data = go.Data([samples_y1, samples_y0, decision_boundary_lr, decision_boundary_svm])\n",
    "layout = go.Layout(\n",
    "    title='Logistic Regression: Decision Boundary',\n",
    "    hovermode='closest',\n",
    "    xaxis=xaxis,\n",
    "    yaxis=yaxis,\n",
    "    autosize=False,\n",
    "    width=800,\n",
    "    height=500,\n",
    ")\n",
    "fig = go.Figure(data=data, layout=layout)\n",
    "py.iplot(fig, filename='Logistic Regression: Decision Boundary', height=500)"
   ]
  }
 ],
 "metadata": {
  "kernelspec": {
   "display_name": "Python 2",
   "language": "python",
   "name": "python2"
  },
  "language_info": {
   "codemirror_mode": {
    "name": "ipython",
    "version": 2
   },
   "file_extension": ".py",
   "mimetype": "text/x-python",
   "name": "python",
   "nbconvert_exporter": "python",
   "pygments_lexer": "ipython2",
   "version": "2.7.10"
  }
 },
 "nbformat": 4,
 "nbformat_minor": 0
}
